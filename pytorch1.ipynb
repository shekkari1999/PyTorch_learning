{
  "nbformat": 4,
  "nbformat_minor": 0,
  "metadata": {
    "colab": {
      "provenance": [],
      "authorship_tag": "ABX9TyM8sm0FTMOXyPORXZ6CA/bo",
      "include_colab_link": true
    },
    "kernelspec": {
      "name": "python3",
      "display_name": "Python 3"
    },
    "language_info": {
      "name": "python"
    }
  },
  "cells": [
    {
      "cell_type": "markdown",
      "metadata": {
        "id": "view-in-github",
        "colab_type": "text"
      },
      "source": [
        "<a href=\"https://colab.research.google.com/github/shekkari1999/PyTorch_learning/blob/main/pytorch1.ipynb\" target=\"_parent\"><img src=\"https://colab.research.google.com/assets/colab-badge.svg\" alt=\"Open In Colab\"/></a>"
      ]
    },
    {
      "cell_type": "code",
      "execution_count": 1,
      "metadata": {
        "id": "YPOvSdQPrWb4",
        "colab": {
          "base_uri": "https://localhost:8080/",
          "height": 50
        },
        "outputId": "c9ef3b9c-99d0-47d7-911b-f81223898c02"
      },
      "outputs": [
        {
          "output_type": "execute_result",
          "data": {
            "text/plain": [
              "'\\n1. Prepare and Load Data\\n2. Build Model\\n3. Fit Model\\n4. Making Predictions/inference and Evaluation Model\\n5. Saving and loading Model\\n\\n'"
            ],
            "application/vnd.google.colaboratory.intrinsic+json": {
              "type": "string"
            }
          },
          "metadata": {},
          "execution_count": 1
        }
      ],
      "source": [
        "# Pytorch workflow\n",
        "\n",
        "# Lets Explore End to End workflow\n",
        "\n",
        "'''\n",
        "1. Prepare and Load Data\n",
        "2. Build Model\n",
        "3. Fit Model\n",
        "4. Making Predictions/inference and Evaluation Model\n",
        "5. Saving and loading Model\n",
        "\n",
        "'''"
      ]
    },
    {
      "cell_type": "code",
      "source": [
        "import torch\n",
        "from torch import nn\n",
        "import matplotlib.pyplot as plt"
      ],
      "metadata": {
        "id": "cgyWKI2a7NwP"
      },
      "execution_count": 2,
      "outputs": []
    },
    {
      "cell_type": "code",
      "source": [
        " ## Create a Liner Regression\n",
        "\n",
        " ## Y = mX + C\n",
        "\n",
        "weight = 0.7\n",
        "bias = 0.3\n",
        "\n",
        "# Create\n",
        "\n",
        "start = 0\n",
        "end = 1\n",
        "step = 0.02\n",
        "\n",
        "X = torch.arange(start,end,step).unsqueeze(dim = 1)\n",
        "y = weight * X + bias\n",
        "\n",
        "X[:10],y[:10]"
      ],
      "metadata": {
        "colab": {
          "base_uri": "https://localhost:8080/"
        },
        "id": "G9LZb6ef70U9",
        "outputId": "95f6fd58-61de-444c-9ff7-199ec9968d17"
      },
      "execution_count": 3,
      "outputs": [
        {
          "output_type": "execute_result",
          "data": {
            "text/plain": [
              "(tensor([[0.0000],\n",
              "         [0.0200],\n",
              "         [0.0400],\n",
              "         [0.0600],\n",
              "         [0.0800],\n",
              "         [0.1000],\n",
              "         [0.1200],\n",
              "         [0.1400],\n",
              "         [0.1600],\n",
              "         [0.1800]]),\n",
              " tensor([[0.3000],\n",
              "         [0.3140],\n",
              "         [0.3280],\n",
              "         [0.3420],\n",
              "         [0.3560],\n",
              "         [0.3700],\n",
              "         [0.3840],\n",
              "         [0.3980],\n",
              "         [0.4120],\n",
              "         [0.4260]]))"
            ]
          },
          "metadata": {},
          "execution_count": 3
        }
      ]
    },
    {
      "cell_type": "code",
      "source": [
        "len(X),len(y)"
      ],
      "metadata": {
        "colab": {
          "base_uri": "https://localhost:8080/"
        },
        "id": "-2Sm61yv92vf",
        "outputId": "d80f9452-8d50-4a3d-dbf0-5f2199d70c3e"
      },
      "execution_count": 4,
      "outputs": [
        {
          "output_type": "execute_result",
          "data": {
            "text/plain": [
              "(50, 50)"
            ]
          },
          "metadata": {},
          "execution_count": 4
        }
      ]
    },
    {
      "cell_type": "code",
      "source": [
        "# Splitting data\n",
        "\n",
        "train_split = int(0.8 * len(X))\n",
        "X_train, y_train = X[:train_split],y[:train_split]\n",
        "X_test, y_test = X[train_split:],y[train_split:]\n",
        "\n",
        "len(X_train),len(y_train),len(X_test),len(y_test)"
      ],
      "metadata": {
        "colab": {
          "base_uri": "https://localhost:8080/"
        },
        "id": "ZQl9VQxU-d7A",
        "outputId": "6bc6dbc9-92f6-4f6c-98f7-a42d682499a0"
      },
      "execution_count": 5,
      "outputs": [
        {
          "output_type": "execute_result",
          "data": {
            "text/plain": [
              "(40, 40, 10, 10)"
            ]
          },
          "metadata": {},
          "execution_count": 5
        }
      ]
    },
    {
      "cell_type": "code",
      "source": [
        "# Visualize using matplotlib\n",
        "\n",
        "def plt_pred(X_train,y_train,X_test,y_test,predictions = None):\n",
        "  plt.figure(figsize = (10,7))\n",
        "\n",
        "  # plot training data in blue\n",
        "  plt.scatter(X_train,y_train, c = \"b\", s = 4, label = \"Training_data\")\n",
        "\n",
        "  # plot testing data\n",
        "  plt.scatter(X_test,y_test, c = \"g\", s = 4, label = \"Testing_data\")\n",
        "\n",
        "  if predictions is not None:\n",
        "    plt.scatter(X_test,predictions,c = \"r\", s = 4, label = \"Predictions\")\n",
        "\n",
        "  # show legends\n",
        "  plt.legend(prop = {\"size\" : 14})\n"
      ],
      "metadata": {
        "id": "kab7qi0F70Z3"
      },
      "execution_count": 6,
      "outputs": []
    },
    {
      "cell_type": "code",
      "source": [
        "plt_pred(X_train,y_train,X_test,y_test)"
      ],
      "metadata": {
        "colab": {
          "base_uri": "https://localhost:8080/",
          "height": 598
        },
        "id": "kcaAOc3a70cu",
        "outputId": "8fd76369-b675-4b2e-fa5a-073edde5813d"
      },
      "execution_count": 7,
      "outputs": [
        {
          "output_type": "display_data",
          "data": {
            "text/plain": [
              "<Figure size 1000x700 with 1 Axes>"
            ],
            "image/png": "[encoded data removed]"
          },
          "metadata": {}
        }
      ]
    },
    {
      "cell_type": "code",
      "source": [
        "## Our first Pytorch model\n",
        "\n",
        "class LinearRegressionModel(nn.Module):\n",
        "  # Almost everything in Pytorch inherits from nn.module\n",
        "  def __init__(self):\n",
        "    super().__init__()\n",
        "    self.weights = nn.Parameter(torch.randn(1,requires_grad = True, dtype = torch.float))\n",
        "    self.bias = nn.Parameter(torch.randn(1,requires_grad = True, dtype = torch.float))\n",
        "\n",
        "    # Forward Method\n",
        "\n",
        "  def forward(self,x:torch.Tensor) -> torch.Tensor:\n",
        "    return self.weights * x + self.bias"
      ],
      "metadata": {
        "id": "dJW02Wv070gI"
      },
      "execution_count": 8,
      "outputs": []
    },
    {
      "cell_type": "code",
      "source": [
        "## Pytorch Model for building essentials\n",
        "\n",
        "'''\n",
        "torch.nn contains all graphs related to NN\n",
        "torch.nn.parameter --> parameters will try and learn\n",
        "torch.nn.module --> should subclass and over ride forward method\n",
        "torch.optim --> optimizers will help in gradient decent\n",
        "def forward() --> should override which performs computation\n",
        "'''"
      ],
      "metadata": {
        "colab": {
          "base_uri": "https://localhost:8080/",
          "height": 67
        },
        "id": "GaMbyA5-70iw",
        "outputId": "b1f03e18-c963-492a-bacc-14bae7f59994"
      },
      "execution_count": 9,
      "outputs": [
        {
          "output_type": "execute_result",
          "data": {
            "text/plain": [
              "'\\ntorch.nn contains all graphs related to NN\\ntorch.nn.parameter --> parameters will try and learn\\ntorch.nn.module --> should subclass and over ride forward method\\ntorch.optim --> optimizers will help in gradient decent\\ndef forward() --> should override which performs computation\\n'"
            ],
            "application/vnd.google.colaboratory.intrinsic+json": {
              "type": "string"
            }
          },
          "metadata": {},
          "execution_count": 9
        }
      ]
    },
    {
      "cell_type": "code",
      "source": [
        "# Checking contents of our PyTorch model\n",
        "\n",
        "# create a random seed\n",
        "torch.manual_seed(42)\n",
        "\n",
        "# create an instance of model\n",
        "model_0 = LinearRegressionModel()\n",
        "\n",
        "list(model_0.parameters())"
      ],
      "metadata": {
        "colab": {
          "base_uri": "https://localhost:8080/"
        },
        "id": "wSiUAJBiHgFL",
        "outputId": "bc0cfb3b-55aa-4ff3-88d9-2884f857ad88"
      },
      "execution_count": 10,
      "outputs": [
        {
          "output_type": "execute_result",
          "data": {
            "text/plain": [
              "[Parameter containing:\n",
              " tensor([0.3367], requires_grad=True),\n",
              " Parameter containing:\n",
              " tensor([0.1288], requires_grad=True)]"
            ]
          },
          "metadata": {},
          "execution_count": 10
        }
      ]
    },
    {
      "cell_type": "code",
      "source": [
        "# list named parameters\n",
        "\n",
        "model_0.state_dict()"
      ],
      "metadata": {
        "colab": {
          "base_uri": "https://localhost:8080/"
        },
        "id": "1udMRI07HgLy",
        "outputId": "6a707acc-b6bc-4985-9864-51e6955711ad"
      },
      "execution_count": 11,
      "outputs": [
        {
          "output_type": "execute_result",
          "data": {
            "text/plain": [
              "OrderedDict([('weights', tensor([0.3367])), ('bias', tensor([0.1288]))])"
            ]
          },
          "metadata": {},
          "execution_count": 11
        }
      ]
    },
    {
      "cell_type": "code",
      "source": [
        "# Make predictions\n",
        "\n",
        "with torch.inference_mode():\n",
        "  # why inference mode? Just to make a bit outputs faster\n",
        "  y_preds = model_0(X_test)\n",
        "\n",
        "y_preds"
      ],
      "metadata": {
        "colab": {
          "base_uri": "https://localhost:8080/"
        },
        "id": "xL_OzR-hHgRv",
        "outputId": "45f5ec48-0ae4-462e-a42d-8eb48c41f710"
      },
      "execution_count": 12,
      "outputs": [
        {
          "output_type": "execute_result",
          "data": {
            "text/plain": [
              "tensor([[0.3982],\n",
              "        [0.4049],\n",
              "        [0.4116],\n",
              "        [0.4184],\n",
              "        [0.4251],\n",
              "        [0.4318],\n",
              "        [0.4386],\n",
              "        [0.4453],\n",
              "        [0.4520],\n",
              "        [0.4588]])"
            ]
          },
          "metadata": {},
          "execution_count": 12
        }
      ]
    },
    {
      "cell_type": "code",
      "source": [
        "# plot the preds\n",
        "\n",
        "plt_pred(X_train,y_train,X_test,y_test,y_preds)"
      ],
      "metadata": {
        "colab": {
          "base_uri": "https://localhost:8080/",
          "height": 598
        },
        "id": "a0-fvpJEHgVk",
        "outputId": "29baac53-6513-490c-d225-d1211fc995be"
      },
      "execution_count": 13,
      "outputs": [
        {
          "output_type": "display_data",
          "data": {
            "text/plain": [
              "<Figure size 1000x700 with 1 Axes>"
            ],
            "image/png": "[encoded data removed]"
          },
          "metadata": {}
        }
      ]
    },
    {
      "cell_type": "code",
      "source": [
        "# Intuition for Backpropogation\n",
        "\n",
        "#### Build #####\n",
        "\n",
        "# Loss function\n",
        "loss_fn = nn.L1Loss()\n",
        "\n",
        "# Optimizer\n",
        "optimizer = torch.optim.SGD(params = model_0.parameters(),lr = 0.01)\n"
      ],
      "metadata": {
        "id": "7rXhtSgCcz79"
      },
      "execution_count": null,
      "outputs": []
    },
    {
      "cell_type": "code",
      "source": [
        "torch.manual_seed(42)\n",
        "\n",
        "# Training Loop\n",
        "'''\n",
        "0. Loop through data\n",
        "1. Forward Pass\n",
        "2. calculate loss\n",
        "3. optimize zero grad\n",
        "4. Loss backward\n",
        "5. Optimizer step\n",
        "\n",
        "'''\n",
        "\n",
        "# An epoch is one loop through the data\n",
        "epochs = 1\n",
        "\n",
        "# 0. loop through data\n",
        "for epoch in range(epochs):\n",
        "\n",
        "  # set the model to training mode\n",
        "  model_0.train()\n",
        "\n",
        "  # 1. Forward pass\n",
        "  y_pred = model_0(X_train)\n",
        "\n",
        "  # 2. Calculate loss\n",
        "  loss = loss_fn(y_pred,y_train)\n",
        "  print(f\"loss: {loss}\")\n",
        "\n",
        "  # 3. Zero grad & 4. Back prop\n",
        "  optimizer.zero_grad()\n",
        "  loss.backward()\n",
        "\n",
        "  # 5. optimizer step\n",
        "  optimizer.step()\n",
        "\n",
        "\n",
        "\n",
        "# Testing Loop\n",
        "\n",
        "  model_0.eval()\n"
      ],
      "metadata": {
        "id": "VYdUmAHQHgZZ",
        "colab": {
          "base_uri": "https://localhost:8080/"
        },
        "outputId": "d113f401-123f-492d-91bb-35807d693b1d"
      },
      "execution_count": 52,
      "outputs": [
        {
          "output_type": "stream",
          "name": "stdout",
          "text": [
            "loss: 0.04591871052980423\n"
          ]
        }
      ]
    },
    {
      "cell_type": "code",
      "source": [
        "model_0.state_dict()"
      ],
      "metadata": {
        "id": "R812BfVLSHkD",
        "colab": {
          "base_uri": "https://localhost:8080/"
        },
        "outputId": "398e6e5f-a350-4996-f119-884eaec54048"
      },
      "execution_count": 54,
      "outputs": [
        {
          "output_type": "execute_result",
          "data": {
            "text/plain": [
              "OrderedDict([('weights', tensor([0.4728])), ('bias', tensor([0.3868]))])"
            ]
          },
          "metadata": {},
          "execution_count": 54
        }
      ]
    },
    {
      "cell_type": "code",
      "source": [
        "with torch.inference_mode():\n",
        "  y_preds_new = model_0(X_test)"
      ],
      "metadata": {
        "id": "d1g8-k0jSHno"
      },
      "execution_count": 55,
      "outputs": []
    },
    {
      "cell_type": "code",
      "source": [
        "plt_pred(X_train,y_train,X_test,y_test,y_preds_new)"
      ],
      "metadata": {
        "id": "KG9AO8PVSHqX",
        "colab": {
          "base_uri": "https://localhost:8080/",
          "height": 598
        },
        "outputId": "0e603790-dacd-4941-cdaf-b174ff4c9b3b"
      },
      "execution_count": 56,
      "outputs": [
        {
          "output_type": "display_data",
          "data": {
            "text/plain": [
              "<Figure size 1000x700 with 1 Axes>"
            ],
            "image/png": "[encoded data removed]"
          },
          "metadata": {}
        }
      ]
    },
    {
      "cell_type": "code",
      "source": [],
      "metadata": {
        "id": "lURsktiBSHtw"
      },
      "execution_count": null,
      "outputs": []
    },
    {
      "cell_type": "code",
      "source": [],
      "metadata": {
        "id": "7gFgUapSSHxZ"
      },
      "execution_count": null,
      "outputs": []
    }
  ]
}