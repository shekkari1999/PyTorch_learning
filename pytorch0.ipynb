{
  "nbformat": 4,
  "nbformat_minor": 0,
  "metadata": {
    "colab": {
      "provenance": [],
      "authorship_tag": "ABX9TyMXZA79iGCfwkiSYdvL/ch7",
      "include_colab_link": true
    },
    "kernelspec": {
      "name": "python3",
      "display_name": "Python 3"
    },
    "language_info": {
      "name": "python"
    }
  },
  "cells": [
    {
      "cell_type": "markdown",
      "metadata": {
        "id": "view-in-github",
        "colab_type": "text"
      },
      "source": [
        "<a href=\"https://colab.research.google.com/github/shekkari1999/PyTorch_learning/blob/main/pytorch0.ipynb\" target=\"_parent\"><img src=\"https://colab.research.google.com/assets/colab-badge.svg\" alt=\"Open In Colab\"/></a>"
      ]
    },
    {
      "cell_type": "code",
      "execution_count": null,
      "metadata": {
        "colab": {
          "base_uri": "https://localhost:8080/"
        },
        "id": "yEEvo1qkCIET",
        "outputId": "c48a93f8-b5ce-48dc-f69a-7177a537568d"
      },
      "outputs": [
        {
          "output_type": "stream",
          "name": "stdout",
          "text": [
            "2.3.1+cu121\n"
          ]
        }
      ],
      "source": [
        "import torch\n",
        "\n",
        "print(torch.__version__)"
      ]
    },
    {
      "cell_type": "code",
      "source": [
        "#Tensors\n",
        "\n",
        "scaler = torch.tensor(7)\n",
        "print(scaler,'\\n')\n",
        "print('dimensions are ',scaler.ndim,'\\n')\n",
        "print('shape is',scaler.shape,'\\n')"
      ],
      "metadata": {
        "colab": {
          "base_uri": "https://localhost:8080/"
        },
        "id": "AyQJSWBKDVAq",
        "outputId": "7fd0f2f6-0e7f-421d-9948-bfa29de7e416"
      },
      "execution_count": null,
      "outputs": [
        {
          "output_type": "stream",
          "name": "stdout",
          "text": [
            "tensor(7) \n",
            "\n",
            "dimensions are  0 \n",
            "\n",
            "shape is torch.Size([]) \n",
            "\n"
          ]
        }
      ]
    },
    {
      "cell_type": "code",
      "source": [
        "## vector\n",
        "\n",
        "## No of square brakets are dimensions\n",
        "\n",
        "vector = torch.tensor([7,7])\n",
        "print(vector,'\\n')\n",
        "print('dimensions are ',vector.ndim,'\\n')\n",
        "print('shape is',vector.shape,'\\n')"
      ],
      "metadata": {
        "colab": {
          "base_uri": "https://localhost:8080/"
        },
        "id": "MTRA2d_zFFsn",
        "outputId": "f1c616ca-417c-44c4-e188-d6561afef440"
      },
      "execution_count": null,
      "outputs": [
        {
          "output_type": "stream",
          "name": "stdout",
          "text": [
            "tensor([7, 7]) \n",
            "\n",
            "dimensions are  1 \n",
            "\n",
            "shape is torch.Size([2]) \n",
            "\n"
          ]
        }
      ]
    },
    {
      "cell_type": "code",
      "source": [
        "## Matrix\n",
        "\n",
        "MATRIX = torch.tensor([[7,7],\n",
        "                       [8,8]])\n",
        "\n",
        "print(MATRIX,'\\n')\n",
        "print('dimensions are', MATRIX.ndim,'\\n')\n",
        "print('shape is', MATRIX.shape)\n",
        "print(\"\")\n",
        "print(MATRIX[1][1].item())\n",
        "print(MATRIX[0][1].item())\n",
        "print(MATRIX[0][0].item())\n",
        "print(MATRIX[1][0].item())"
      ],
      "metadata": {
        "colab": {
          "base_uri": "https://localhost:8080/"
        },
        "id": "9gbr0vC9FqRI",
        "outputId": "496fd163-38d4-4f81-9c1f-338f7f4d7391"
      },
      "execution_count": null,
      "outputs": [
        {
          "output_type": "stream",
          "name": "stdout",
          "text": [
            "tensor([[7, 7],\n",
            "        [8, 8]]) \n",
            "\n",
            "dimensions are 2 \n",
            "\n",
            "shape is torch.Size([2, 2])\n",
            "\n",
            "8\n",
            "7\n",
            "7\n",
            "8\n"
          ]
        }
      ]
    },
    {
      "cell_type": "code",
      "source": [
        "#TENSOR\n",
        "\n",
        "TENSOR = torch.tensor([[\n",
        "                        [1,2,3],\n",
        "                        [4,5,6],\n",
        "                        [7,8,9]],\n",
        "                       [[11,22,33],\n",
        "                        [44,55,66],\n",
        "                        [77,88,99]]\n",
        "                       ])\n",
        "\n",
        "print(TENSOR,'\\n')\n",
        "print('dimensions are',TENSOR.ndim,'\\n')\n",
        "print('dimensions are',TENSOR.shape,'\\n')\n",
        "\n",
        "#Getting elements\n",
        "\n",
        "print(TENSOR[1][1][1].item()) # second matrix, second row, second column\n",
        "print(TENSOR[0][2][0].item()) # First Matrix, 3rd row, 1st column"
      ],
      "metadata": {
        "colab": {
          "base_uri": "https://localhost:8080/"
        },
        "id": "XH7qJjJ0G0D4",
        "outputId": "9918c2d6-e54a-4269-b03b-37c8b8e6792f"
      },
      "execution_count": null,
      "outputs": [
        {
          "output_type": "stream",
          "name": "stdout",
          "text": [
            "tensor([[[ 1,  2,  3],\n",
            "         [ 4,  5,  6],\n",
            "         [ 7,  8,  9]],\n",
            "\n",
            "        [[11, 22, 33],\n",
            "         [44, 55, 66],\n",
            "         [77, 88, 99]]]) \n",
            "\n",
            "dimensions are 3 \n",
            "\n",
            "dimensions are torch.Size([2, 3, 3]) \n",
            "\n",
            "55\n",
            "7\n"
          ]
        }
      ]
    },
    {
      "cell_type": "code",
      "source": [
        "## Random Tensors\n",
        "\n",
        "# Random tensors are imp because many NN start to learn from random numbers\n",
        "# lets create (3, 4) tensor\n",
        "\n",
        "random_tensor = torch.rand(4,3,4)\n",
        "random_tensor\n"
      ],
      "metadata": {
        "colab": {
          "base_uri": "https://localhost:8080/"
        },
        "id": "prhzPYotJ03W",
        "outputId": "fd249fa4-aae4-47c0-e820-6f757e7434b7"
      },
      "execution_count": null,
      "outputs": [
        {
          "output_type": "execute_result",
          "data": {
            "text/plain": [
              "tensor([[[0.9785, 0.8554, 0.8722, 0.7993],\n",
              "         [0.6936, 0.0548, 0.3953, 0.5536],\n",
              "         [0.8847, 0.4980, 0.4359, 0.4949]],\n",
              "\n",
              "        [[0.9346, 0.0501, 0.6103, 0.3017],\n",
              "         [0.8422, 0.2199, 0.6856, 0.9169],\n",
              "         [0.2792, 0.3247, 0.2633, 0.5330]],\n",
              "\n",
              "        [[0.7692, 0.9020, 0.0506, 0.2946],\n",
              "         [0.0152, 0.5994, 0.1311, 0.7879],\n",
              "         [0.4052, 0.4925, 0.5755, 0.0850]],\n",
              "\n",
              "        [[0.9752, 0.3774, 0.9395, 0.2642],\n",
              "         [0.1561, 0.2932, 0.2983, 0.0453],\n",
              "         [0.4726, 0.5965, 0.7980, 0.9692]]])"
            ]
          },
          "metadata": {},
          "execution_count": 56
        }
      ]
    },
    {
      "cell_type": "code",
      "source": [
        "# create image size tensor\n",
        "image_tensor = torch.rand(3,224,224)\n",
        "\n",
        "print('shape is', image_tensor.shape,'\\n')\n",
        "print('Dimensions are',image_tensor.ndim)"
      ],
      "metadata": {
        "colab": {
          "base_uri": "https://localhost:8080/"
        },
        "id": "iINxEdZHJyH0",
        "outputId": "b2903307-1ec0-4b63-a84a-e000ab2f370f"
      },
      "execution_count": null,
      "outputs": [
        {
          "output_type": "stream",
          "name": "stdout",
          "text": [
            "shape is torch.Size([3, 224, 224]) \n",
            "\n",
            "Dimensions are 3\n"
          ]
        }
      ]
    },
    {
      "cell_type": "code",
      "source": [
        "## Create tensors of Zeroes and Ones\n",
        "\n",
        "## Used for Masking\n",
        "\n",
        "zeros = torch.zeros(3,4)\n",
        "print(zeros,'\\n')\n",
        "\n",
        "print(zeros.dtype) # default ones"
      ],
      "metadata": {
        "colab": {
          "base_uri": "https://localhost:8080/"
        },
        "id": "h4vZfaLMOVQp",
        "outputId": "0f010917-f365-4515-d6a7-fe6d94f96e6e"
      },
      "execution_count": null,
      "outputs": [
        {
          "output_type": "stream",
          "name": "stdout",
          "text": [
            "tensor([[0., 0., 0., 0.],\n",
            "        [0., 0., 0., 0.],\n",
            "        [0., 0., 0., 0.]]) \n",
            "\n",
            "torch.float32\n"
          ]
        }
      ]
    },
    {
      "cell_type": "code",
      "source": [
        "# create tensors within particular range\n",
        "\n",
        "range_tensor = torch.arange(start = 0,end = 30,step = 2)\n",
        "\n",
        "range_tensor\n"
      ],
      "metadata": {
        "colab": {
          "base_uri": "https://localhost:8080/"
        },
        "id": "50Q9iiCqP1w1",
        "outputId": "48f6d874-a83d-4707-ccc3-2edb8ba69c40"
      },
      "execution_count": null,
      "outputs": [
        {
          "output_type": "execute_result",
          "data": {
            "text/plain": [
              "tensor([ 0,  2,  4,  6,  8, 10, 12, 14, 16, 18, 20, 22, 24, 26, 28])"
            ]
          },
          "metadata": {},
          "execution_count": 76
        }
      ]
    },
    {
      "cell_type": "code",
      "source": [
        "# creating tensors-like\n",
        "\n",
        "range_tensor_like = torch.zeros_like(input = range_tensor)\n",
        "\n",
        "range_tensor_like"
      ],
      "metadata": {
        "colab": {
          "base_uri": "https://localhost:8080/"
        },
        "id": "jh08Gy3zQLQo",
        "outputId": "ef82a352-b3aa-43c3-accc-f4cb64235ff1"
      },
      "execution_count": null,
      "outputs": [
        {
          "output_type": "execute_result",
          "data": {
            "text/plain": [
              "tensor([0, 0, 0, 0, 0, 0, 0, 0, 0, 0, 0, 0, 0, 0, 0])"
            ]
          },
          "metadata": {},
          "execution_count": 70
        }
      ]
    },
    {
      "cell_type": "code",
      "source": [
        "## can we create a range tensor of size (3,4,4)\n",
        "\n",
        "import torch\n",
        "\n",
        "# Create a tensor with numbers from 0 to 10\n",
        "tensor = torch.linspace(0, 50, steps=9).view(1, 3, 3)\n",
        "print(tensor)"
      ],
      "metadata": {
        "colab": {
          "base_uri": "https://localhost:8080/"
        },
        "id": "KFNaZpClRFnn",
        "outputId": "edb38284-a6ee-48bd-fe78-ccb11b5d07b2"
      },
      "execution_count": null,
      "outputs": [
        {
          "output_type": "stream",
          "name": "stdout",
          "text": [
            "tensor([[[ 0.0000,  6.2500, 12.5000],\n",
            "         [18.7500, 25.0000, 31.2500],\n",
            "         [37.5000, 43.7500, 50.0000]]])\n"
          ]
        }
      ]
    },
    {
      "cell_type": "code",
      "source": [
        " ## Tensor Data types\n",
        "\n",
        " # Precision in computing\n",
        "\n",
        "float_tensor = torch.tensor([3.0,6.0,9.0],\n",
        "                            dtype = None,\n",
        "                            device = None,\n",
        "                            requires_grad = False)\n",
        "\n",
        "float_tensor"
      ],
      "metadata": {
        "colab": {
          "base_uri": "https://localhost:8080/"
        },
        "id": "Acqjx8OzPxq_",
        "outputId": "5b931265-9e5e-47fd-d940-58785a59d95d"
      },
      "execution_count": null,
      "outputs": [
        {
          "output_type": "execute_result",
          "data": {
            "text/plain": [
              "tensor([3., 6., 9.])"
            ]
          },
          "metadata": {},
          "execution_count": 79
        }
      ]
    },
    {
      "cell_type": "code",
      "source": [
        "float_16 = float_tensor.type(dtype = torch.half)\n",
        "float_16"
      ],
      "metadata": {
        "colab": {
          "base_uri": "https://localhost:8080/"
        },
        "id": "63qHaVijPwZ4",
        "outputId": "8b212bd1-6ecb-497f-d7c7-4087ab655cd6"
      },
      "execution_count": null,
      "outputs": [
        {
          "output_type": "execute_result",
          "data": {
            "text/plain": [
              "tensor([3., 6., 9.], dtype=torch.float16)"
            ]
          },
          "metadata": {},
          "execution_count": 81
        }
      ]
    },
    {
      "cell_type": "code",
      "source": [
        "# 16 multiplied by 32\n",
        "\n",
        "float_16 * float_tensor"
      ],
      "metadata": {
        "colab": {
          "base_uri": "https://localhost:8080/"
        },
        "id": "m29Azx7NIgbk",
        "outputId": "916d176f-5e91-4dd1-b325-64645014785c"
      },
      "execution_count": null,
      "outputs": [
        {
          "output_type": "execute_result",
          "data": {
            "text/plain": [
              "tensor([ 9., 36., 81.])"
            ]
          },
          "metadata": {},
          "execution_count": 82
        }
      ]
    },
    {
      "cell_type": "code",
      "source": [
        "# Matrix Multiplication\n",
        "\n",
        "tensor_A = torch.tensor([1,2,3])\n",
        "tensor_B = torch.tensor([1,4,5])\n",
        "\n",
        "print(torch.matmul(tensor_A,tensor_B),'\\n')\n",
        "\n",
        "## Element wise Multiplication\n",
        "\n",
        "print(tensor_A * tensor_B)"
      ],
      "metadata": {
        "colab": {
          "base_uri": "https://localhost:8080/"
        },
        "id": "2nq6VAKyH29M",
        "outputId": "92f39502-e7de-4ec4-9d00-5247f9e930f6"
      },
      "execution_count": null,
      "outputs": [
        {
          "output_type": "stream",
          "name": "stdout",
          "text": [
            "tensor(24) \n",
            "\n",
            "tensor([ 1,  8, 15])\n"
          ]
        }
      ]
    },
    {
      "cell_type": "code",
      "source": [
        "# Aggregations / pytorch methods in tensors\n",
        "\n",
        "print(min(tensor_A))\n",
        "print(sum(tensor_A))\n",
        "print(tensor_A.sum())\n",
        "print(tensor_A.type(torch.float32).mean())\n",
        "\n",
        "## So there are Multiple ways\n",
        "\n",
        "#tensor_A.mean()\n",
        "#torch.mean(tensor_A.type(torch.float32))"
      ],
      "metadata": {
        "colab": {
          "base_uri": "https://localhost:8080/"
        },
        "id": "iBVjFRVAHvAh",
        "outputId": "6014e4e9-42f7-46e4-a3f8-1574a83557dc"
      },
      "execution_count": null,
      "outputs": [
        {
          "output_type": "stream",
          "name": "stdout",
          "text": [
            "tensor(1)\n",
            "tensor(6)\n",
            "tensor(6)\n",
            "tensor(2.)\n"
          ]
        },
        {
          "output_type": "execute_result",
          "data": {
            "text/plain": [
              "tensor(2.)"
            ]
          },
          "metadata": {},
          "execution_count": 92
        }
      ]
    },
    {
      "cell_type": "code",
      "source": [
        "# Reshaping, viewing and Stacking, squeezing and unsqeezing\n",
        "\n",
        "x = torch.arange(1,10)\n",
        "print(x,'\\n')\n",
        "print(x.shape)\n",
        "\n",
        "## reshaping\n",
        "\n",
        "x_reshaped = x.reshape(9,1)\n",
        "print('\\n(9,1) reshaped is \\n\\n',x_reshaped)\n",
        "print('\\n',x_reshaped.shape)\n",
        "x_reshaped[5].item()\n",
        "\n",
        "\n",
        "x_reshaped_2 = x.reshape(3,3)\n",
        "print('\\n(9,1) reshaped is \\n\\n',x_reshaped_2)\n"
      ],
      "metadata": {
        "colab": {
          "base_uri": "https://localhost:8080/"
        },
        "id": "A_Tl6rCqOhJI",
        "outputId": "8adbae0d-a5dc-4850-a7c1-bb6edf1e652f"
      },
      "execution_count": null,
      "outputs": [
        {
          "output_type": "stream",
          "name": "stdout",
          "text": [
            "tensor([1, 2, 3, 4, 5, 6, 7, 8, 9]) \n",
            "\n",
            "torch.Size([9])\n",
            "\n",
            "(9,1) reshaped is \n",
            "\n",
            " tensor([[1],\n",
            "        [2],\n",
            "        [3],\n",
            "        [4],\n",
            "        [5],\n",
            "        [6],\n",
            "        [7],\n",
            "        [8],\n",
            "        [9]])\n",
            "\n",
            " torch.Size([9, 1])\n",
            "\n",
            "(9,1) reshaped is \n",
            "\n",
            " tensor([[1, 2, 3],\n",
            "        [4, 5, 6],\n",
            "        [7, 8, 9]])\n"
          ]
        }
      ]
    },
    {
      "cell_type": "code",
      "source": [
        "# View of a tensor shares memory as original tensor\n",
        "\n",
        "z = x.view(1,9)\n",
        "print(z)\n",
        "\n",
        "print(z[0][0].item())"
      ],
      "metadata": {
        "colab": {
          "base_uri": "https://localhost:8080/"
        },
        "id": "84hocjr0Rwcx",
        "outputId": "69008c8f-46a7-4be1-9e51-7ca3ed6687f6"
      },
      "execution_count": null,
      "outputs": [
        {
          "output_type": "stream",
          "name": "stdout",
          "text": [
            "tensor([[1, 2, 3, 4, 5, 6, 7, 8, 9]])\n",
            "1\n"
          ]
        }
      ]
    },
    {
      "cell_type": "code",
      "source": [
        "# Stacking\n",
        "\n",
        "x_stacked = torch.stack([x,x,x,x],dim = 1)\n",
        "\n",
        "print(x_stacked)\n",
        "print(x_stacked.shape)\n",
        "print(x_stacked.dim())\n",
        "\n",
        "print(x_stacked[2][3].item())"
      ],
      "metadata": {
        "colab": {
          "base_uri": "https://localhost:8080/"
        },
        "id": "0D6tuqKLOY6C",
        "outputId": "4adb7f0c-98fd-4958-d359-d2d7a897677d"
      },
      "execution_count": null,
      "outputs": [
        {
          "output_type": "stream",
          "name": "stdout",
          "text": [
            "tensor([[1, 1, 1, 1],\n",
            "        [2, 2, 2, 2],\n",
            "        [3, 3, 3, 3],\n",
            "        [4, 4, 4, 4],\n",
            "        [5, 5, 5, 5],\n",
            "        [6, 6, 6, 6],\n",
            "        [7, 7, 7, 7],\n",
            "        [8, 8, 8, 8],\n",
            "        [9, 9, 9, 9]])\n",
            "torch.Size([9, 4])\n",
            "2\n",
            "3\n"
          ]
        }
      ]
    },
    {
      "cell_type": "code",
      "source": [
        "# squeez\n",
        "\n",
        "x_squeezed = x.squeeze()\n",
        "\n",
        "print(x_squeezed)\n",
        "print(x_squeezed.shape)\n",
        "print(x.shape)\n",
        "\n",
        "z_squeezed = z.squeeze()\n",
        "print(z.shape)\n",
        "print(z_squeezed.shape)\n",
        "print(z_squeezed[0].item())\n",
        "\n",
        "## Just put unsqueeze in place of squeeze for unsqueeze"
      ],
      "metadata": {
        "colab": {
          "base_uri": "https://localhost:8080/"
        },
        "id": "WwvjpZxrTghS",
        "outputId": "57d25aac-5956-4547-9a5a-38eadcb7d746"
      },
      "execution_count": null,
      "outputs": [
        {
          "output_type": "stream",
          "name": "stdout",
          "text": [
            "tensor([1, 2, 3, 4, 5, 6, 7, 8, 9])\n",
            "torch.Size([9])\n",
            "torch.Size([9])\n",
            "torch.Size([1, 9])\n",
            "torch.Size([9])\n",
            "1\n"
          ]
        }
      ]
    },
    {
      "cell_type": "code",
      "source": [
        "## research about torch.permute\n",
        "\n",
        "# Permute is mostly used with images"
      ],
      "metadata": {
        "id": "gEId1LrkV6Lu"
      },
      "execution_count": null,
      "outputs": []
    },
    {
      "cell_type": "code",
      "source": [
        "# indexing (selecting data from tensors)\n",
        "\n",
        "x = x.reshape(1,3,3)\n",
        "print(x,'\\n')\n",
        "\n",
        "print(x[0][0][0])\n",
        "print('Give me all from the first matrix \\nconsider all rows, second index column\\n')\n",
        "print(x[:,0:3,2])\n",
        "\n",
        "print('Give me one number from the first matrix \\nconsider first row, second index column\\n')\n",
        "print(x[0,0,2])\n",
        "\n",
        "print('give me (5,6)')\n",
        "print(x[:,1,1:3])\n",
        "\n",
        "# last digit of slices are excluded"
      ],
      "metadata": {
        "colab": {
          "base_uri": "https://localhost:8080/"
        },
        "id": "ia_BCJgmTbBt",
        "outputId": "fa96fc3c-1935-4b81-c0f8-096319eb2cfe"
      },
      "execution_count": null,
      "outputs": [
        {
          "output_type": "stream",
          "name": "stdout",
          "text": [
            "tensor([[[1, 2, 3],\n",
            "         [4, 5, 6],\n",
            "         [7, 8, 9]]]) \n",
            "\n",
            "tensor(1)\n",
            "Give me all from the first matrix \n",
            "consider all rows, second index column\n",
            "\n",
            "tensor([[3, 6, 9]])\n",
            "Give me one number from the first matrix \n",
            "consider first row, second index column\n",
            "\n",
            "tensor(3)\n",
            "give me (5,6)\n",
            "tensor([[5, 6]])\n"
          ]
        }
      ]
    },
    {
      "cell_type": "code",
      "source": [
        "## Pytorch and numpy\n",
        "\n",
        "import torch\n",
        "import numpy as np\n",
        "\n",
        "array = np.arange(1,8)\n",
        "\n",
        "## numpy --> tensor\n",
        "tensor = torch.from_numpy(array)\n",
        "print(array, tensor)\n",
        "print(array.dtype,tensor.dtype)\n",
        "\n",
        "## tensor --> numpy\n",
        "\n",
        "array = tensor.numpy()"
      ],
      "metadata": {
        "colab": {
          "base_uri": "https://localhost:8080/"
        },
        "id": "muHoPXGeOBIA",
        "outputId": "f25c86d9-e868-432a-9d0d-1040f460dade"
      },
      "execution_count": null,
      "outputs": [
        {
          "output_type": "stream",
          "name": "stdout",
          "text": [
            "[1 2 3 4 5 6 7] tensor([1, 2, 3, 4, 5, 6, 7])\n",
            "int64 torch.int64\n"
          ]
        }
      ]
    },
    {
      "cell_type": "code",
      "source": [
        "# reproducability\n",
        "\n",
        "#just like seed parameter\n",
        "\n",
        "torch.manual_seed(42)\n",
        "torch.rand(3,3)"
      ],
      "metadata": {
        "colab": {
          "base_uri": "https://localhost:8080/"
        },
        "id": "9VT1rXo8NyPh",
        "outputId": "deff82e8-dd21-4924-ee59-2ea0c0de6d17"
      },
      "execution_count": null,
      "outputs": [
        {
          "output_type": "execute_result",
          "data": {
            "text/plain": [
              "tensor([[0.8823, 0.9150, 0.3829],\n",
              "        [0.9593, 0.3904, 0.6009],\n",
              "        [0.2566, 0.7936, 0.9408]])"
            ]
          },
          "metadata": {},
          "execution_count": 173
        }
      ]
    },
    {
      "cell_type": "code",
      "source": [
        "## Accessing GPU\n",
        "\n",
        "'''\n",
        "1. Google colab\n",
        "2. Own GPU\n",
        "3. Azure, AWS, GCP\n",
        "\n",
        "'''"
      ],
      "metadata": {
        "id": "jYaU9s_7Gwwl"
      },
      "execution_count": null,
      "outputs": []
    },
    {
      "cell_type": "code",
      "source": [
        "# setting up device agnostic code\n",
        "\n",
        "'''\n",
        "1. Numpy only works on CPU\n",
        "\n",
        "'''"
      ],
      "metadata": {
        "colab": {
          "base_uri": "https://localhost:8080/",
          "height": 34
        },
        "id": "1QG948RdGsr9",
        "outputId": "3f0928c2-1d5a-4eca-c196-0e9b710a8d32"
      },
      "execution_count": null,
      "outputs": [
        {
          "output_type": "execute_result",
          "data": {
            "text/plain": [
              "'\\n1. Numpy only works on CPU\\n\\n'"
            ],
            "application/vnd.google.colaboratory.intrinsic+json": {
              "type": "string"
            }
          },
          "metadata": {},
          "execution_count": 174
        }
      ]
    },
    {
      "cell_type": "code",
      "source": [
        "# Excercises"
      ],
      "metadata": {
        "id": "kp3HujsNGqyI"
      },
      "execution_count": null,
      "outputs": []
    },
    {
      "cell_type": "code",
      "source": [],
      "metadata": {
        "id": "edz99ucAGkU9"
      },
      "execution_count": null,
      "outputs": []
    }
  ]
}